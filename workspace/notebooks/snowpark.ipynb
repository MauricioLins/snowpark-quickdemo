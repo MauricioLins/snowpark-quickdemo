{
 "cells": [
  {
   "cell_type": "code",
   "execution_count": 14,
   "id": "42f98dcf-b75b-49b9-8cd7-00cbb0fb1f01",
   "metadata": {},
   "outputs": [],
   "source": [
    "from snowflake.snowpark import Session\n",
    "from snowflake.snowpark.functions import udf, substr"
   ]
  },
  {
   "cell_type": "code",
   "execution_count": 15,
   "id": "626b255e-b2b7-4b10-abb3-c3b7df12919e",
   "metadata": {},
   "outputs": [],
   "source": [
    "snowflake_account = 'hz08110.west-europe.azure' \n",
    "snowflake_user = 'MLINS'\n",
    "snowflake_password = 'Mateus2014'\n",
    "snowflake_user_role = 'SYSADMIN'\n",
    "snowflake_warehouse = 'DEMO_WH'\n",
    "snowflake_database = 'DEMO'\n",
    "snowflake_schema = 'JSONDEMO'"
   ]
  },
  {
   "cell_type": "code",
   "execution_count": 16,
   "id": "529412b1-9b21-4e07-8702-1311789ae1b1",
   "metadata": {},
   "outputs": [],
   "source": [
    "connection_parameters = {\n",
    "  \"account\": snowflake_account,\n",
    "  \"user\": snowflake_user,\n",
    "  \"password\": snowflake_password,\n",
    "  \"role\": snowflake_user_role,\n",
    "  \"warehouse\": snowflake_warehouse,\n",
    "  \"database\": snowflake_database,\n",
    "  \"schema\": snowflake_schema\n",
    "}"
   ]
  },
  {
   "cell_type": "code",
   "execution_count": 17,
   "id": "0532d1af-5a6d-4b12-a1e7-a72bc4725e47",
   "metadata": {},
   "outputs": [],
   "source": [
    "session = Session.builder.configs(connection_parameters).create()"
   ]
  },
  {
   "cell_type": "code",
   "execution_count": 18,
   "id": "ddd810c7-1b02-4f7b-8250-ab713701852e",
   "metadata": {},
   "outputs": [
    {
     "name": "stdout",
     "output_type": "stream",
     "text": [
      "[Row(CURRENT_WAREHOUSE()='DEMO_WH', CURRENT_DATABASE()='DEMO', CURRENT_SCHEMA()='JSONDEMO')]\n"
     ]
    }
   ],
   "source": [
    "print(session.sql(\"select current_warehouse(), current_database(), current_schema()\").collect())"
   ]
  },
  {
   "cell_type": "code",
   "execution_count": 19,
   "id": "66a46bcd-17a8-4f1c-a137-ee9b00341204",
   "metadata": {},
   "outputs": [],
   "source": [
    "# session.sql(\"SELECT RAW_FILE FROM DEMO.JSONDEMO.JSON_RAW\").show()"
   ]
  },
  {
   "cell_type": "code",
   "execution_count": 20,
   "id": "77f66c86-b7c8-4edc-8a8a-9726675e37a7",
   "metadata": {},
   "outputs": [],
   "source": [
    "df_nhs_covid = session.sql(\"SELECT value:areaCode::STRING as area_code,\" \\\n",
    "                                   \"value:areaName::STRING as area_name,\" \\\n",
    "                                   \"value:date::DATE as day_date,\" \\\n",
    "                                   \"value:hospitalCases::INT as num_hospital_cases,\" \\\n",
    "                                   \"value:newAdmissions::INT as num_admissions \" \\\n",
    "                           \"FROM DEMO.JSONDEMO.JSON_RAW, LATERAL FLATTEN( INPUT => raw_file:body )\")"
   ]
  },
  {
   "cell_type": "code",
   "execution_count": 21,
   "id": "fb8d711d-823c-4af1-ae66-588626911538",
   "metadata": {},
   "outputs": [
    {
     "name": "stdout",
     "output_type": "stream",
     "text": [
      "------------------------------------------------------------------------------------\n",
      "|\"AREA_CODE\"  |\"AREA_NAME\"  |\"DAY_DATE\"  |\"NUM_HOSPITAL_CASES\"  |\"NUM_ADMISSIONS\"  |\n",
      "------------------------------------------------------------------------------------\n",
      "|E40000003    |London       |2022-07-20  |2303                  |NULL              |\n",
      "|E40000003    |London       |2022-07-19  |2339                  |NULL              |\n",
      "|E40000003    |London       |2022-07-18  |2330                  |246               |\n",
      "|E40000003    |London       |2022-07-17  |2281                  |229               |\n",
      "|E40000003    |London       |2022-07-16  |2282                  |179               |\n",
      "|E40000003    |London       |2022-07-15  |2295                  |215               |\n",
      "|E40000003    |London       |2022-07-14  |2257                  |278               |\n",
      "|E40000003    |London       |2022-07-13  |2225                  |266               |\n",
      "|E40000003    |London       |2022-07-12  |2237                  |271               |\n",
      "|E40000003    |London       |2022-07-11  |2180                  |263               |\n",
      "------------------------------------------------------------------------------------\n",
      "\n"
     ]
    }
   ],
   "source": [
    "df_nhs_covid.show()"
   ]
  },
  {
   "cell_type": "code",
   "execution_count": 22,
   "id": "1dd1666b-22cf-4835-9063-b3134e76f336",
   "metadata": {},
   "outputs": [],
   "source": [
    "df_nhs_covid.write.mode('overwrite').save_as_table('NHS_COVID')"
   ]
  },
  {
   "cell_type": "code",
   "execution_count": null,
   "id": "a5bf6609-3701-4f73-ae9a-42021ca4a9a2",
   "metadata": {},
   "outputs": [],
   "source": []
  },
  {
   "cell_type": "code",
   "execution_count": 23,
   "id": "35570c32-4733-4d75-bc16-872160f5f7c9",
   "metadata": {},
   "outputs": [],
   "source": [
    "@udf(name=\"calc_example\", is_permanent=True, stage_location=\"@demo_stage\", replace=True, session=session)\n",
    "def calc_example(x: int, y: int) -> int:\n",
    "    x = 1 if x is None else x\n",
    "    y = 1 if y is None else y\n",
    "    return round(x/y,2)\n"
   ]
  },
  {
   "cell_type": "code",
   "execution_count": 24,
   "id": "16b68efa-5e65-4a61-bfe9-12ee8f79fbe7",
   "metadata": {},
   "outputs": [
    {
     "name": "stdout",
     "output_type": "stream",
     "text": [
      "--------------------------------------------------------------------------------------------\n",
      "|\"AREA_CODE\"  |\"AREA_NAME\"  |\"DAY_DATE\"  |\"NUM_HOSPITAL_CASES\"  |\"NUM_ADMISSIONS\"  |\"XXX\"  |\n",
      "--------------------------------------------------------------------------------------------\n",
      "|E40000003    |London       |2022-07-20  |2303                  |NULL              |2303   |\n",
      "|E40000003    |London       |2022-07-19  |2339                  |NULL              |2339   |\n",
      "|E40000003    |London       |2022-07-18  |2330                  |246               |9      |\n",
      "|E40000003    |London       |2022-07-17  |2281                  |229               |9      |\n",
      "|E40000003    |London       |2022-07-16  |2282                  |179               |12     |\n",
      "|E40000003    |London       |2022-07-15  |2295                  |215               |10     |\n",
      "|E40000003    |London       |2022-07-14  |2257                  |278               |8      |\n",
      "|E40000003    |London       |2022-07-13  |2225                  |266               |8      |\n",
      "|E40000003    |London       |2022-07-12  |2237                  |271               |8      |\n",
      "|E40000003    |London       |2022-07-11  |2180                  |263               |8      |\n",
      "--------------------------------------------------------------------------------------------\n",
      "\n"
     ]
    }
   ],
   "source": [
    "df_nhs_covid.withColumn('XxX', calc_example(df_nhs_covid.NUM_HOSPITAL_CASES, df_nhs_covid.NUM_ADMISSIONS)).show()"
   ]
  },
  {
   "cell_type": "code",
   "execution_count": 25,
   "id": "b7e8b953-2e4e-4cbc-8f23-b6c963cad852",
   "metadata": {},
   "outputs": [],
   "source": [
    "df_nhs_covid_month = df_nhs_covid.withColumn('month_year', substr(df_nhs_covid.DAY_DATE, 0, 7))"
   ]
  },
  {
   "cell_type": "code",
   "execution_count": 26,
   "id": "654c861c-cc94-4674-bdef-44143ab8bf42",
   "metadata": {},
   "outputs": [
    {
     "name": "stdout",
     "output_type": "stream",
     "text": [
      "---------------------------------------------------------------------------------------------------\n",
      "|\"AREA_CODE\"  |\"AREA_NAME\"  |\"DAY_DATE\"  |\"NUM_HOSPITAL_CASES\"  |\"NUM_ADMISSIONS\"  |\"MONTH_YEAR\"  |\n",
      "---------------------------------------------------------------------------------------------------\n",
      "|E40000003    |London       |2022-07-20  |2303                  |NULL              |2022-07       |\n",
      "|E40000003    |London       |2022-07-19  |2339                  |NULL              |2022-07       |\n",
      "|E40000003    |London       |2022-07-18  |2330                  |246               |2022-07       |\n",
      "|E40000003    |London       |2022-07-17  |2281                  |229               |2022-07       |\n",
      "|E40000003    |London       |2022-07-16  |2282                  |179               |2022-07       |\n",
      "|E40000003    |London       |2022-07-15  |2295                  |215               |2022-07       |\n",
      "|E40000003    |London       |2022-07-14  |2257                  |278               |2022-07       |\n",
      "|E40000003    |London       |2022-07-13  |2225                  |266               |2022-07       |\n",
      "|E40000003    |London       |2022-07-12  |2237                  |271               |2022-07       |\n",
      "|E40000003    |London       |2022-07-11  |2180                  |263               |2022-07       |\n",
      "---------------------------------------------------------------------------------------------------\n",
      "\n"
     ]
    }
   ],
   "source": [
    "df_nhs_covid_month.show()"
   ]
  },
  {
   "cell_type": "code",
   "execution_count": null,
   "id": "119cae31-85ed-4ca5-a2bc-7ab50a4893f6",
   "metadata": {},
   "outputs": [],
   "source": [
    "df_nhs_covid_month.group_by(df_nhs_covid_month.MONTH_YEAR, df_nhs_covid_month.AREA_NAME).agg(sum(df_nhs_covid_month.NUM_HOSPITAL_CASES).alias('h_cases_total')).show()"
   ]
  },
  {
   "cell_type": "code",
   "execution_count": null,
   "id": "810dd957-a68c-4de5-9aed-7ee0f0714e4b",
   "metadata": {},
   "outputs": [],
   "source": []
  },
  {
   "cell_type": "code",
   "execution_count": null,
   "id": "ef6b8b3c-3984-4a49-b6aa-b7ff9b2ad78a",
   "metadata": {},
   "outputs": [],
   "source": []
  }
 ],
 "metadata": {
  "kernelspec": {
   "display_name": "Python 3 (ipykernel)",
   "language": "python",
   "name": "python3"
  },
  "language_info": {
   "codemirror_mode": {
    "name": "ipython",
    "version": 3
   },
   "file_extension": ".py",
   "mimetype": "text/x-python",
   "name": "python",
   "nbconvert_exporter": "python",
   "pygments_lexer": "ipython3",
   "version": "3.8.13"
  }
 },
 "nbformat": 4,
 "nbformat_minor": 5
}
